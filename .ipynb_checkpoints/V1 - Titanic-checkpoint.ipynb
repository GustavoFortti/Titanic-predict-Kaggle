{
 "cells": [
  {
   "cell_type": "code",
   "execution_count": 1,
   "metadata": {},
   "outputs": [],
   "source": [
    "import pandas as pd\n",
    "import numpy as np\n",
    "import matplotlib.pyplot as plt\n",
    "import seaborn as sns\n",
    "from sklearn.model_selection import train_test_split\n",
    "from sklearn.metrics import accuracy_score\n",
    "\n",
    "\n",
    "# survival\tSurvival\t0 = No, 1 = Yes\n",
    "# pclass\tTicket class\t1 = 1st, 2 = 2nd, 3 = 3rd\n",
    "# sex\tSex\t\n",
    "# Age\tAge in years\t\n",
    "# sibsp\t# of siblings / spouses aboard the Titanic\t\n",
    "# parch\t# of parents / children aboard the Titanic\t\n",
    "# ticket\tTicket number\t\n",
    "# fare\tPassenger fare\t\n",
    "# cabin\tCabin number\t\n",
    "# embarked\tPort of Embarkation\tC = Cherbourg, Q = Queenstown, S = Southampton"
   ]
  },
  {
   "cell_type": "code",
   "execution_count": 2,
   "metadata": {},
   "outputs": [],
   "source": [
    "train = pd.read_csv('./train.csv')\n",
    "test =  pd.read_csv('./test.csv')"
   ]
  },
  {
   "cell_type": "code",
   "execution_count": 3,
   "metadata": {},
   "outputs": [],
   "source": [
    "data = [train, test]\n",
    "df = pd.concat(data)\n",
    "df = df.reset_index()\n",
    "df = df.drop(columns='index')"
   ]
  },
  {
   "cell_type": "code",
   "execution_count": 4,
   "metadata": {},
   "outputs": [
    {
     "data": {
      "text/plain": [
       "(1309, 12)"
      ]
     },
     "execution_count": 4,
     "metadata": {},
     "output_type": "execute_result"
    }
   ],
   "source": [
    "df.shape"
   ]
  },
  {
   "cell_type": "code",
   "execution_count": 5,
   "metadata": {},
   "outputs": [],
   "source": [
    "corr1 = df.corr()"
   ]
  },
  {
   "cell_type": "code",
   "execution_count": 6,
   "metadata": {},
   "outputs": [
    {
     "data": {
      "text/html": [
       "<div>\n",
       "<style scoped>\n",
       "    .dataframe tbody tr th:only-of-type {\n",
       "        vertical-align: middle;\n",
       "    }\n",
       "\n",
       "    .dataframe tbody tr th {\n",
       "        vertical-align: top;\n",
       "    }\n",
       "\n",
       "    .dataframe thead th {\n",
       "        text-align: right;\n",
       "    }\n",
       "</style>\n",
       "<table border=\"1\" class=\"dataframe\">\n",
       "  <thead>\n",
       "    <tr style=\"text-align: right;\">\n",
       "      <th></th>\n",
       "      <th>PassengerId</th>\n",
       "      <th>Survived</th>\n",
       "      <th>Pclass</th>\n",
       "      <th>Age</th>\n",
       "      <th>SibSp</th>\n",
       "      <th>Parch</th>\n",
       "      <th>Fare</th>\n",
       "    </tr>\n",
       "  </thead>\n",
       "  <tbody>\n",
       "    <tr>\n",
       "      <th>PassengerId</th>\n",
       "      <td>1.000000</td>\n",
       "      <td>-0.005007</td>\n",
       "      <td>-0.038354</td>\n",
       "      <td>0.028814</td>\n",
       "      <td>-0.055224</td>\n",
       "      <td>0.008942</td>\n",
       "      <td>0.031428</td>\n",
       "    </tr>\n",
       "    <tr>\n",
       "      <th>Survived</th>\n",
       "      <td>-0.005007</td>\n",
       "      <td>1.000000</td>\n",
       "      <td>-0.338481</td>\n",
       "      <td>-0.077221</td>\n",
       "      <td>-0.035322</td>\n",
       "      <td>0.081629</td>\n",
       "      <td>0.257307</td>\n",
       "    </tr>\n",
       "    <tr>\n",
       "      <th>Pclass</th>\n",
       "      <td>-0.038354</td>\n",
       "      <td>-0.338481</td>\n",
       "      <td>1.000000</td>\n",
       "      <td>-0.408106</td>\n",
       "      <td>0.060832</td>\n",
       "      <td>0.018322</td>\n",
       "      <td>-0.558629</td>\n",
       "    </tr>\n",
       "    <tr>\n",
       "      <th>Age</th>\n",
       "      <td>0.028814</td>\n",
       "      <td>-0.077221</td>\n",
       "      <td>-0.408106</td>\n",
       "      <td>1.000000</td>\n",
       "      <td>-0.243699</td>\n",
       "      <td>-0.150917</td>\n",
       "      <td>0.178740</td>\n",
       "    </tr>\n",
       "    <tr>\n",
       "      <th>SibSp</th>\n",
       "      <td>-0.055224</td>\n",
       "      <td>-0.035322</td>\n",
       "      <td>0.060832</td>\n",
       "      <td>-0.243699</td>\n",
       "      <td>1.000000</td>\n",
       "      <td>0.373587</td>\n",
       "      <td>0.160238</td>\n",
       "    </tr>\n",
       "    <tr>\n",
       "      <th>Parch</th>\n",
       "      <td>0.008942</td>\n",
       "      <td>0.081629</td>\n",
       "      <td>0.018322</td>\n",
       "      <td>-0.150917</td>\n",
       "      <td>0.373587</td>\n",
       "      <td>1.000000</td>\n",
       "      <td>0.221539</td>\n",
       "    </tr>\n",
       "    <tr>\n",
       "      <th>Fare</th>\n",
       "      <td>0.031428</td>\n",
       "      <td>0.257307</td>\n",
       "      <td>-0.558629</td>\n",
       "      <td>0.178740</td>\n",
       "      <td>0.160238</td>\n",
       "      <td>0.221539</td>\n",
       "      <td>1.000000</td>\n",
       "    </tr>\n",
       "  </tbody>\n",
       "</table>\n",
       "</div>"
      ],
      "text/plain": [
       "             PassengerId  Survived    Pclass       Age     SibSp     Parch  \\\n",
       "PassengerId     1.000000 -0.005007 -0.038354  0.028814 -0.055224  0.008942   \n",
       "Survived       -0.005007  1.000000 -0.338481 -0.077221 -0.035322  0.081629   \n",
       "Pclass         -0.038354 -0.338481  1.000000 -0.408106  0.060832  0.018322   \n",
       "Age             0.028814 -0.077221 -0.408106  1.000000 -0.243699 -0.150917   \n",
       "SibSp          -0.055224 -0.035322  0.060832 -0.243699  1.000000  0.373587   \n",
       "Parch           0.008942  0.081629  0.018322 -0.150917  0.373587  1.000000   \n",
       "Fare            0.031428  0.257307 -0.558629  0.178740  0.160238  0.221539   \n",
       "\n",
       "                 Fare  \n",
       "PassengerId  0.031428  \n",
       "Survived     0.257307  \n",
       "Pclass      -0.558629  \n",
       "Age          0.178740  \n",
       "SibSp        0.160238  \n",
       "Parch        0.221539  \n",
       "Fare         1.000000  "
      ]
     },
     "execution_count": 6,
     "metadata": {},
     "output_type": "execute_result"
    }
   ],
   "source": [
    "corr1"
   ]
  },
  {
   "cell_type": "markdown",
   "metadata": {},
   "source": [
    "# - Clean"
   ]
  },
  {
   "cell_type": "code",
   "execution_count": 7,
   "metadata": {},
   "outputs": [],
   "source": [
    "df = df.dropna(subset=['Embarked'])\n",
    "df = df.dropna(subset=['Fare'])\n",
    "\n",
    "df.Embarked = [2 if value == 'Q' else 3 if  value == 'S' else 1 for value in df.Embarked]\n",
    "df.Fare = [np.intc(float(str(round(value, 5)).replace('.', ''))) for value in df.Fare]\n",
    "df.Sex = [1 if i == \"male\" else 0 for i in df.Sex]"
   ]
  },
  {
   "cell_type": "markdown",
   "metadata": {},
   "source": [
    "# - Cabin"
   ]
  },
  {
   "cell_type": "code",
   "execution_count": 8,
   "metadata": {},
   "outputs": [],
   "source": [
    "Cabin = df[df.Cabin.isna() == False]\n",
    "Cabin = Cabin.reset_index()"
   ]
  },
  {
   "cell_type": "code",
   "execution_count": 9,
   "metadata": {},
   "outputs": [],
   "source": [
    "def CabinCord(x):\n",
    "    y = (x.split(' '))\n",
    "    w = []\n",
    "    k = []\n",
    "    z = []\n",
    "\n",
    "    for i in y:\n",
    "        for j in i:\n",
    "            if(str.isalpha(j)):\n",
    "                z.append(ord(j))\n",
    "            else:\n",
    "                w.append(int(j))\n",
    "        if (w != []):\n",
    "            k.append(int(str(w).replace(', ', '')[1:-1]))\n",
    "        w = []\n",
    "        \n",
    "    if (k == []):\n",
    "        k = [1]\n",
    "    \n",
    "    quad_x = np.ceil((np.sum(z))/ len(z))\n",
    "    quad_y = np.ceil((np.sum(k))/ len(k))\n",
    "    \n",
    "    return (np.intc(quad_x), np.intc(quad_y))"
   ]
  },
  {
   "cell_type": "code",
   "execution_count": 10,
   "metadata": {},
   "outputs": [],
   "source": [
    "x = Cabin.Cabin.apply(CabinCord)\n",
    "x = pd.DataFrame([ (str(i)[1:-1].split(',')) for i in x])\n",
    "x.columns = ['x', 'y']"
   ]
  },
  {
   "cell_type": "code",
   "execution_count": 11,
   "metadata": {},
   "outputs": [],
   "source": [
    "s = [ 2 if np.isnan(i) else int(i) for i in Cabin.Survived]"
   ]
  },
  {
   "cell_type": "code",
   "execution_count": 12,
   "metadata": {},
   "outputs": [
    {
     "data": {
      "text/plain": [
       "<matplotlib.axes._subplots.AxesSubplot at 0x7f38cc434dd0>"
      ]
     },
     "execution_count": 12,
     "metadata": {},
     "output_type": "execute_result"
    },
    {
     "data": {
      "image/png": "[encoded data removed]",
      "text/plain": [
       "<Figure size 1440x1080 with 1 Axes>"
      ]
     },
     "metadata": {
      "needs_background": "light"
     },
     "output_type": "display_data"
    }
   ],
   "source": [
    "plt.figure(figsize=(20, 15))\n",
    "sns.scatterplot(x.x, x.y, hue=Cabin.Pclass, s=100)"
   ]
  },
  {
   "cell_type": "code",
   "execution_count": 13,
   "metadata": {},
   "outputs": [],
   "source": [
    "Cabin = Cabin.join(x)"
   ]
  },
  {
   "cell_type": "code",
   "execution_count": 14,
   "metadata": {},
   "outputs": [],
   "source": [
    "Cabin.x = [np.intc(i) for i in Cabin.x]\n",
    "Cabin.y = [np.intc(i) for i in Cabin.y]"
   ]
  },
  {
   "cell_type": "code",
   "execution_count": 15,
   "metadata": {},
   "outputs": [],
   "source": [
    "Cabin = Cabin.drop(columns=['Cabin', 'index'])"
   ]
  },
  {
   "cell_type": "code",
   "execution_count": 24,
   "metadata": {},
   "outputs": [
    {
     "data": {
      "text/html": [
       "<div>\n",
       "<style scoped>\n",
       "    .dataframe tbody tr th:only-of-type {\n",
       "        vertical-align: middle;\n",
       "    }\n",
       "\n",
       "    .dataframe tbody tr th {\n",
       "        vertical-align: top;\n",
       "    }\n",
       "\n",
       "    .dataframe thead th {\n",
       "        text-align: right;\n",
       "    }\n",
       "</style>\n",
       "<table border=\"1\" class=\"dataframe\">\n",
       "  <thead>\n",
       "    <tr style=\"text-align: right;\">\n",
       "      <th></th>\n",
       "      <th>PassengerId</th>\n",
       "      <th>Survived</th>\n",
       "      <th>Pclass</th>\n",
       "      <th>Sex</th>\n",
       "      <th>Age</th>\n",
       "      <th>SibSp</th>\n",
       "      <th>Parch</th>\n",
       "      <th>Fare</th>\n",
       "      <th>Embarked</th>\n",
       "      <th>x</th>\n",
       "      <th>y</th>\n",
       "    </tr>\n",
       "  </thead>\n",
       "  <tbody>\n",
       "    <tr>\n",
       "      <th>PassengerId</th>\n",
       "      <td>1.000000</td>\n",
       "      <td>0.111985</td>\n",
       "      <td>-0.059405</td>\n",
       "      <td>-0.004191</td>\n",
       "      <td>0.107439</td>\n",
       "      <td>0.028655</td>\n",
       "      <td>-0.031736</td>\n",
       "      <td>0.072965</td>\n",
       "      <td>-0.134353</td>\n",
       "      <td>-0.075795</td>\n",
       "      <td>-0.012625</td>\n",
       "    </tr>\n",
       "    <tr>\n",
       "      <th>Survived</th>\n",
       "      <td>0.111985</td>\n",
       "      <td>1.000000</td>\n",
       "      <td>-0.030513</td>\n",
       "      <td>-0.545297</td>\n",
       "      <td>-0.254085</td>\n",
       "      <td>0.138202</td>\n",
       "      <td>0.042456</td>\n",
       "      <td>0.155226</td>\n",
       "      <td>-0.130910</td>\n",
       "      <td>-0.035453</td>\n",
       "      <td>-0.048004</td>\n",
       "    </tr>\n",
       "    <tr>\n",
       "      <th>Pclass</th>\n",
       "      <td>-0.059405</td>\n",
       "      <td>-0.030513</td>\n",
       "      <td>1.000000</td>\n",
       "      <td>-0.012130</td>\n",
       "      <td>-0.338191</td>\n",
       "      <td>-0.112411</td>\n",
       "      <td>0.029653</td>\n",
       "      <td>-0.174206</td>\n",
       "      <td>0.152111</td>\n",
       "      <td>0.525409</td>\n",
       "      <td>-0.103240</td>\n",
       "    </tr>\n",
       "    <tr>\n",
       "      <th>Sex</th>\n",
       "      <td>-0.004191</td>\n",
       "      <td>-0.545297</td>\n",
       "      <td>-0.012130</td>\n",
       "      <td>1.000000</td>\n",
       "      <td>0.116081</td>\n",
       "      <td>-0.168978</td>\n",
       "      <td>-0.141246</td>\n",
       "      <td>-0.107799</td>\n",
       "      <td>0.046730</td>\n",
       "      <td>-0.014479</td>\n",
       "      <td>0.020477</td>\n",
       "    </tr>\n",
       "    <tr>\n",
       "      <th>Age</th>\n",
       "      <td>0.107439</td>\n",
       "      <td>-0.254085</td>\n",
       "      <td>-0.338191</td>\n",
       "      <td>0.116081</td>\n",
       "      <td>1.000000</td>\n",
       "      <td>-0.076471</td>\n",
       "      <td>-0.158510</td>\n",
       "      <td>0.102602</td>\n",
       "      <td>-0.085602</td>\n",
       "      <td>-0.167573</td>\n",
       "      <td>0.085053</td>\n",
       "    </tr>\n",
       "    <tr>\n",
       "      <th>SibSp</th>\n",
       "      <td>0.028655</td>\n",
       "      <td>0.138202</td>\n",
       "      <td>-0.112411</td>\n",
       "      <td>-0.168978</td>\n",
       "      <td>-0.076471</td>\n",
       "      <td>1.000000</td>\n",
       "      <td>0.263897</td>\n",
       "      <td>-0.084647</td>\n",
       "      <td>0.037616</td>\n",
       "      <td>-0.035785</td>\n",
       "      <td>0.025901</td>\n",
       "    </tr>\n",
       "    <tr>\n",
       "      <th>Parch</th>\n",
       "      <td>-0.031736</td>\n",
       "      <td>0.042456</td>\n",
       "      <td>0.029653</td>\n",
       "      <td>-0.141246</td>\n",
       "      <td>-0.158510</td>\n",
       "      <td>0.263897</td>\n",
       "      <td>1.000000</td>\n",
       "      <td>0.019351</td>\n",
       "      <td>0.044475</td>\n",
       "      <td>-0.014998</td>\n",
       "      <td>-0.098608</td>\n",
       "    </tr>\n",
       "    <tr>\n",
       "      <th>Fare</th>\n",
       "      <td>0.072965</td>\n",
       "      <td>0.155226</td>\n",
       "      <td>-0.174206</td>\n",
       "      <td>-0.107799</td>\n",
       "      <td>0.102602</td>\n",
       "      <td>-0.084647</td>\n",
       "      <td>0.019351</td>\n",
       "      <td>1.000000</td>\n",
       "      <td>-0.218736</td>\n",
       "      <td>-0.179309</td>\n",
       "      <td>0.058486</td>\n",
       "    </tr>\n",
       "    <tr>\n",
       "      <th>Embarked</th>\n",
       "      <td>-0.134353</td>\n",
       "      <td>-0.130910</td>\n",
       "      <td>0.152111</td>\n",
       "      <td>0.046730</td>\n",
       "      <td>-0.085602</td>\n",
       "      <td>0.037616</td>\n",
       "      <td>0.044475</td>\n",
       "      <td>-0.218736</td>\n",
       "      <td>1.000000</td>\n",
       "      <td>0.207994</td>\n",
       "      <td>-0.068393</td>\n",
       "    </tr>\n",
       "    <tr>\n",
       "      <th>x</th>\n",
       "      <td>-0.075795</td>\n",
       "      <td>-0.035453</td>\n",
       "      <td>0.525409</td>\n",
       "      <td>-0.014479</td>\n",
       "      <td>-0.167573</td>\n",
       "      <td>-0.035785</td>\n",
       "      <td>-0.014998</td>\n",
       "      <td>-0.179309</td>\n",
       "      <td>0.207994</td>\n",
       "      <td>1.000000</td>\n",
       "      <td>-0.161774</td>\n",
       "    </tr>\n",
       "    <tr>\n",
       "      <th>y</th>\n",
       "      <td>-0.012625</td>\n",
       "      <td>-0.048004</td>\n",
       "      <td>-0.103240</td>\n",
       "      <td>0.020477</td>\n",
       "      <td>0.085053</td>\n",
       "      <td>0.025901</td>\n",
       "      <td>-0.098608</td>\n",
       "      <td>0.058486</td>\n",
       "      <td>-0.068393</td>\n",
       "      <td>-0.161774</td>\n",
       "      <td>1.000000</td>\n",
       "    </tr>\n",
       "  </tbody>\n",
       "</table>\n",
       "</div>"
      ],
      "text/plain": [
       "             PassengerId  Survived    Pclass       Sex       Age     SibSp  \\\n",
       "PassengerId     1.000000  0.111985 -0.059405 -0.004191  0.107439  0.028655   \n",
       "Survived        0.111985  1.000000 -0.030513 -0.545297 -0.254085  0.138202   \n",
       "Pclass         -0.059405 -0.030513  1.000000 -0.012130 -0.338191 -0.112411   \n",
       "Sex            -0.004191 -0.545297 -0.012130  1.000000  0.116081 -0.168978   \n",
       "Age             0.107439 -0.254085 -0.338191  0.116081  1.000000 -0.076471   \n",
       "SibSp           0.028655  0.138202 -0.112411 -0.168978 -0.076471  1.000000   \n",
       "Parch          -0.031736  0.042456  0.029653 -0.141246 -0.158510  0.263897   \n",
       "Fare            0.072965  0.155226 -0.174206 -0.107799  0.102602 -0.084647   \n",
       "Embarked       -0.134353 -0.130910  0.152111  0.046730 -0.085602  0.037616   \n",
       "x              -0.075795 -0.035453  0.525409 -0.014479 -0.167573 -0.035785   \n",
       "y              -0.012625 -0.048004 -0.103240  0.020477  0.085053  0.025901   \n",
       "\n",
       "                Parch      Fare  Embarked         x         y  \n",
       "PassengerId -0.031736  0.072965 -0.134353 -0.075795 -0.012625  \n",
       "Survived     0.042456  0.155226 -0.130910 -0.035453 -0.048004  \n",
       "Pclass       0.029653 -0.174206  0.152111  0.525409 -0.103240  \n",
       "Sex         -0.141246 -0.107799  0.046730 -0.014479  0.020477  \n",
       "Age         -0.158510  0.102602 -0.085602 -0.167573  0.085053  \n",
       "SibSp        0.263897 -0.084647  0.037616 -0.035785  0.025901  \n",
       "Parch        1.000000  0.019351  0.044475 -0.014998 -0.098608  \n",
       "Fare         0.019351  1.000000 -0.218736 -0.179309  0.058486  \n",
       "Embarked     0.044475 -0.218736  1.000000  0.207994 -0.068393  \n",
       "x           -0.014998 -0.179309  0.207994  1.000000 -0.161774  \n",
       "y           -0.098608  0.058486 -0.068393 -0.161774  1.000000  "
      ]
     },
     "execution_count": 24,
     "metadata": {},
     "output_type": "execute_result"
    }
   ],
   "source": [
    "Cabin.corr() "
   ]
  },
  {
   "cell_type": "markdown",
   "metadata": {},
   "source": [
    "### Predict ML"
   ]
  },
  {
   "cell_type": "code",
   "execution_count": 53,
   "metadata": {},
   "outputs": [],
   "source": [
    "y_cabin_x = Cabin.x\n",
    "x_cabin = Cabin.drop(columns=['PassengerId', 'Survived', 'Ticket', 'x', 'Age', 'Name', 'y'])"
   ]
  },
  {
   "cell_type": "code",
   "execution_count": 54,
   "metadata": {},
   "outputs": [],
   "source": [
    "x_train_cabin, x_test_cabin, y_train_cabin, y_test_cabin = train_test_split(x_cabin, y_cabin_x, test_size=0.3, random_state=337)"
   ]
  },
  {
   "cell_type": "code",
   "execution_count": 55,
   "metadata": {},
   "outputs": [],
   "source": [
    "from sklearn.tree import DecisionTreeClassifier\n",
    "from sklearn.ensemble.gradient_boosting import GradientBoostingClassifier"
   ]
  },
  {
   "cell_type": "code",
   "execution_count": 56,
   "metadata": {},
   "outputs": [],
   "source": [
    "clf = GradientBoostingClassifier()"
   ]
  },
  {
   "cell_type": "code",
   "execution_count": 57,
   "metadata": {},
   "outputs": [
    {
     "data": {
      "text/plain": [
       "GradientBoostingClassifier(criterion='friedman_mse', init=None,\n",
       "              learning_rate=0.1, loss='deviance', max_depth=3,\n",
       "              max_features=None, max_leaf_nodes=None,\n",
       "              min_impurity_decrease=0.0, min_impurity_split=None,\n",
       "              min_samples_leaf=1, min_samples_split=2,\n",
       "              min_weight_fraction_leaf=0.0, n_estimators=100,\n",
       "              n_iter_no_change=None, presort='auto', random_state=None,\n",
       "              subsample=1.0, tol=0.0001, validation_fraction=0.1,\n",
       "              verbose=0, warm_start=False)"
      ]
     },
     "execution_count": 57,
     "metadata": {},
     "output_type": "execute_result"
    }
   ],
   "source": [
    "clf.fit(x_train_cabin, y_train_cabin)"
   ]
  },
  {
   "cell_type": "code",
   "execution_count": 76,
   "metadata": {},
   "outputs": [],
   "source": [
    "y_pred_cabin = clf.predict(x_test_cabin)"
   ]
  },
  {
   "cell_type": "code",
   "execution_count": 77,
   "metadata": {},
   "outputs": [
    {
     "name": "stdout",
     "output_type": "stream",
     "text": [
      "Acurácia: 77.0%\n"
     ]
    }
   ],
   "source": [
    "from sklearn.metrics import accuracy_score\n",
    "\n",
    "# Acurácia alcançada pela árvore de decisão\n",
    "print(\"Acurácia: {}%\".format(100*round(accuracy_score(y_test_cabin, y_pred_cabin), 2)))"
   ]
  },
  {
   "cell_type": "code",
   "execution_count": 78,
   "metadata": {},
   "outputs": [],
   "source": [
    "df_test = df[df.Cabin.isna()]\n",
    "df_test = df_test.drop(columns=['Cabin', 'Ticket', 'Name', 'PassengerId', 'Age', 'Survived'])"
   ]
  },
  {
   "cell_type": "code",
   "execution_count": 79,
   "metadata": {},
   "outputs": [
    {
     "data": {
      "text/html": [
       "<div>\n",
       "<style scoped>\n",
       "    .dataframe tbody tr th:only-of-type {\n",
       "        vertical-align: middle;\n",
       "    }\n",
       "\n",
       "    .dataframe tbody tr th {\n",
       "        vertical-align: top;\n",
       "    }\n",
       "\n",
       "    .dataframe thead th {\n",
       "        text-align: right;\n",
       "    }\n",
       "</style>\n",
       "<table border=\"1\" class=\"dataframe\">\n",
       "  <thead>\n",
       "    <tr style=\"text-align: right;\">\n",
       "      <th></th>\n",
       "      <th>Pclass</th>\n",
       "      <th>Sex</th>\n",
       "      <th>SibSp</th>\n",
       "      <th>Parch</th>\n",
       "      <th>Fare</th>\n",
       "      <th>Embarked</th>\n",
       "    </tr>\n",
       "  </thead>\n",
       "  <tbody>\n",
       "    <tr>\n",
       "      <th>0</th>\n",
       "      <td>3</td>\n",
       "      <td>1</td>\n",
       "      <td>1</td>\n",
       "      <td>0</td>\n",
       "      <td>725</td>\n",
       "      <td>3</td>\n",
       "    </tr>\n",
       "    <tr>\n",
       "      <th>2</th>\n",
       "      <td>3</td>\n",
       "      <td>0</td>\n",
       "      <td>0</td>\n",
       "      <td>0</td>\n",
       "      <td>7925</td>\n",
       "      <td>3</td>\n",
       "    </tr>\n",
       "    <tr>\n",
       "      <th>4</th>\n",
       "      <td>3</td>\n",
       "      <td>1</td>\n",
       "      <td>0</td>\n",
       "      <td>0</td>\n",
       "      <td>805</td>\n",
       "      <td>3</td>\n",
       "    </tr>\n",
       "    <tr>\n",
       "      <th>5</th>\n",
       "      <td>3</td>\n",
       "      <td>1</td>\n",
       "      <td>0</td>\n",
       "      <td>0</td>\n",
       "      <td>84583</td>\n",
       "      <td>2</td>\n",
       "    </tr>\n",
       "    <tr>\n",
       "      <th>7</th>\n",
       "      <td>3</td>\n",
       "      <td>1</td>\n",
       "      <td>3</td>\n",
       "      <td>1</td>\n",
       "      <td>21075</td>\n",
       "      <td>3</td>\n",
       "    </tr>\n",
       "    <tr>\n",
       "      <th>...</th>\n",
       "      <td>...</td>\n",
       "      <td>...</td>\n",
       "      <td>...</td>\n",
       "      <td>...</td>\n",
       "      <td>...</td>\n",
       "      <td>...</td>\n",
       "    </tr>\n",
       "    <tr>\n",
       "      <th>1303</th>\n",
       "      <td>3</td>\n",
       "      <td>0</td>\n",
       "      <td>0</td>\n",
       "      <td>0</td>\n",
       "      <td>7775</td>\n",
       "      <td>3</td>\n",
       "    </tr>\n",
       "    <tr>\n",
       "      <th>1304</th>\n",
       "      <td>3</td>\n",
       "      <td>1</td>\n",
       "      <td>0</td>\n",
       "      <td>0</td>\n",
       "      <td>805</td>\n",
       "      <td>3</td>\n",
       "    </tr>\n",
       "    <tr>\n",
       "      <th>1306</th>\n",
       "      <td>3</td>\n",
       "      <td>1</td>\n",
       "      <td>0</td>\n",
       "      <td>0</td>\n",
       "      <td>725</td>\n",
       "      <td>3</td>\n",
       "    </tr>\n",
       "    <tr>\n",
       "      <th>1307</th>\n",
       "      <td>3</td>\n",
       "      <td>1</td>\n",
       "      <td>0</td>\n",
       "      <td>0</td>\n",
       "      <td>805</td>\n",
       "      <td>3</td>\n",
       "    </tr>\n",
       "    <tr>\n",
       "      <th>1308</th>\n",
       "      <td>3</td>\n",
       "      <td>1</td>\n",
       "      <td>1</td>\n",
       "      <td>1</td>\n",
       "      <td>223583</td>\n",
       "      <td>1</td>\n",
       "    </tr>\n",
       "  </tbody>\n",
       "</table>\n",
       "<p>1013 rows × 6 columns</p>\n",
       "</div>"
      ],
      "text/plain": [
       "      Pclass  Sex  SibSp  Parch    Fare  Embarked\n",
       "0          3    1      1      0     725         3\n",
       "2          3    0      0      0    7925         3\n",
       "4          3    1      0      0     805         3\n",
       "5          3    1      0      0   84583         2\n",
       "7          3    1      3      1   21075         3\n",
       "...      ...  ...    ...    ...     ...       ...\n",
       "1303       3    0      0      0    7775         3\n",
       "1304       3    1      0      0     805         3\n",
       "1306       3    1      0      0     725         3\n",
       "1307       3    1      0      0     805         3\n",
       "1308       3    1      1      1  223583         1\n",
       "\n",
       "[1013 rows x 6 columns]"
      ]
     },
     "execution_count": 79,
     "metadata": {},
     "output_type": "execute_result"
    }
   ],
   "source": [
    "df_test"
   ]
  },
  {
   "cell_type": "code",
   "execution_count": 80,
   "metadata": {},
   "outputs": [],
   "source": [
    "y_pred_df = clf.predict(df_test)"
   ]
  },
  {
   "cell_type": "code",
   "execution_count": 81,
   "metadata": {},
   "outputs": [
    {
     "data": {
      "text/plain": [
       "array([71, 69, 70, ..., 71, 70, 70])"
      ]
     },
     "execution_count": 81,
     "metadata": {},
     "output_type": "execute_result"
    }
   ],
   "source": [
    "y_pred_df"
   ]
  },
  {
   "cell_type": "code",
   "execution_count": 87,
   "metadata": {},
   "outputs": [],
   "source": [
    "df_1 = df[df.Cabin.isna()]"
   ]
  },
  {
   "cell_type": "code",
   "execution_count": 88,
   "metadata": {},
   "outputs": [
    {
     "name": "stderr",
     "output_type": "stream",
     "text": [
      "/home/ds_magico/anaconda3/lib/python3.7/site-packages/ipykernel_launcher.py:1: SettingWithCopyWarning: \n",
      "A value is trying to be set on a copy of a slice from a DataFrame.\n",
      "Try using .loc[row_indexer,col_indexer] = value instead\n",
      "\n",
      "See the caveats in the documentation: https://pandas.pydata.org/pandas-docs/stable/user_guide/indexing.html#returning-a-view-versus-a-copy\n",
      "  \"\"\"Entry point for launching an IPython kernel.\n"
     ]
    }
   ],
   "source": [
    "df_1['x'] = y_pred_df"
   ]
  },
  {
   "cell_type": "code",
   "execution_count": 90,
   "metadata": {},
   "outputs": [
    {
     "data": {
      "text/html": [
       "<div>\n",
       "<style scoped>\n",
       "    .dataframe tbody tr th:only-of-type {\n",
       "        vertical-align: middle;\n",
       "    }\n",
       "\n",
       "    .dataframe tbody tr th {\n",
       "        vertical-align: top;\n",
       "    }\n",
       "\n",
       "    .dataframe thead th {\n",
       "        text-align: right;\n",
       "    }\n",
       "</style>\n",
       "<table border=\"1\" class=\"dataframe\">\n",
       "  <thead>\n",
       "    <tr style=\"text-align: right;\">\n",
       "      <th></th>\n",
       "      <th>PassengerId</th>\n",
       "      <th>Survived</th>\n",
       "      <th>Pclass</th>\n",
       "      <th>Name</th>\n",
       "      <th>Sex</th>\n",
       "      <th>Age</th>\n",
       "      <th>SibSp</th>\n",
       "      <th>Parch</th>\n",
       "      <th>Ticket</th>\n",
       "      <th>Fare</th>\n",
       "      <th>Cabin</th>\n",
       "      <th>Embarked</th>\n",
       "      <th>x</th>\n",
       "    </tr>\n",
       "  </thead>\n",
       "  <tbody>\n",
       "    <tr>\n",
       "      <th>0</th>\n",
       "      <td>1</td>\n",
       "      <td>0.0</td>\n",
       "      <td>3</td>\n",
       "      <td>Braund, Mr. Owen Harris</td>\n",
       "      <td>1</td>\n",
       "      <td>22.0</td>\n",
       "      <td>1</td>\n",
       "      <td>0</td>\n",
       "      <td>A/5 21171</td>\n",
       "      <td>725</td>\n",
       "      <td>NaN</td>\n",
       "      <td>3</td>\n",
       "      <td>71</td>\n",
       "    </tr>\n",
       "    <tr>\n",
       "      <th>2</th>\n",
       "      <td>3</td>\n",
       "      <td>1.0</td>\n",
       "      <td>3</td>\n",
       "      <td>Heikkinen, Miss. Laina</td>\n",
       "      <td>0</td>\n",
       "      <td>26.0</td>\n",
       "      <td>0</td>\n",
       "      <td>0</td>\n",
       "      <td>STON/O2. 3101282</td>\n",
       "      <td>7925</td>\n",
       "      <td>NaN</td>\n",
       "      <td>3</td>\n",
       "      <td>69</td>\n",
       "    </tr>\n",
       "    <tr>\n",
       "      <th>4</th>\n",
       "      <td>5</td>\n",
       "      <td>0.0</td>\n",
       "      <td>3</td>\n",
       "      <td>Allen, Mr. William Henry</td>\n",
       "      <td>1</td>\n",
       "      <td>35.0</td>\n",
       "      <td>0</td>\n",
       "      <td>0</td>\n",
       "      <td>373450</td>\n",
       "      <td>805</td>\n",
       "      <td>NaN</td>\n",
       "      <td>3</td>\n",
       "      <td>70</td>\n",
       "    </tr>\n",
       "    <tr>\n",
       "      <th>5</th>\n",
       "      <td>6</td>\n",
       "      <td>0.0</td>\n",
       "      <td>3</td>\n",
       "      <td>Moran, Mr. James</td>\n",
       "      <td>1</td>\n",
       "      <td>NaN</td>\n",
       "      <td>0</td>\n",
       "      <td>0</td>\n",
       "      <td>330877</td>\n",
       "      <td>84583</td>\n",
       "      <td>NaN</td>\n",
       "      <td>2</td>\n",
       "      <td>70</td>\n",
       "    </tr>\n",
       "    <tr>\n",
       "      <th>7</th>\n",
       "      <td>8</td>\n",
       "      <td>0.0</td>\n",
       "      <td>3</td>\n",
       "      <td>Palsson, Master. Gosta Leonard</td>\n",
       "      <td>1</td>\n",
       "      <td>2.0</td>\n",
       "      <td>3</td>\n",
       "      <td>1</td>\n",
       "      <td>349909</td>\n",
       "      <td>21075</td>\n",
       "      <td>NaN</td>\n",
       "      <td>3</td>\n",
       "      <td>67</td>\n",
       "    </tr>\n",
       "    <tr>\n",
       "      <th>...</th>\n",
       "      <td>...</td>\n",
       "      <td>...</td>\n",
       "      <td>...</td>\n",
       "      <td>...</td>\n",
       "      <td>...</td>\n",
       "      <td>...</td>\n",
       "      <td>...</td>\n",
       "      <td>...</td>\n",
       "      <td>...</td>\n",
       "      <td>...</td>\n",
       "      <td>...</td>\n",
       "      <td>...</td>\n",
       "      <td>...</td>\n",
       "    </tr>\n",
       "    <tr>\n",
       "      <th>1303</th>\n",
       "      <td>1304</td>\n",
       "      <td>NaN</td>\n",
       "      <td>3</td>\n",
       "      <td>Henriksson, Miss. Jenny Lovisa</td>\n",
       "      <td>0</td>\n",
       "      <td>28.0</td>\n",
       "      <td>0</td>\n",
       "      <td>0</td>\n",
       "      <td>347086</td>\n",
       "      <td>7775</td>\n",
       "      <td>NaN</td>\n",
       "      <td>3</td>\n",
       "      <td>69</td>\n",
       "    </tr>\n",
       "    <tr>\n",
       "      <th>1304</th>\n",
       "      <td>1305</td>\n",
       "      <td>NaN</td>\n",
       "      <td>3</td>\n",
       "      <td>Spector, Mr. Woolf</td>\n",
       "      <td>1</td>\n",
       "      <td>NaN</td>\n",
       "      <td>0</td>\n",
       "      <td>0</td>\n",
       "      <td>A.5. 3236</td>\n",
       "      <td>805</td>\n",
       "      <td>NaN</td>\n",
       "      <td>3</td>\n",
       "      <td>70</td>\n",
       "    </tr>\n",
       "    <tr>\n",
       "      <th>1306</th>\n",
       "      <td>1307</td>\n",
       "      <td>NaN</td>\n",
       "      <td>3</td>\n",
       "      <td>Saether, Mr. Simon Sivertsen</td>\n",
       "      <td>1</td>\n",
       "      <td>38.5</td>\n",
       "      <td>0</td>\n",
       "      <td>0</td>\n",
       "      <td>SOTON/O.Q. 3101262</td>\n",
       "      <td>725</td>\n",
       "      <td>NaN</td>\n",
       "      <td>3</td>\n",
       "      <td>71</td>\n",
       "    </tr>\n",
       "    <tr>\n",
       "      <th>1307</th>\n",
       "      <td>1308</td>\n",
       "      <td>NaN</td>\n",
       "      <td>3</td>\n",
       "      <td>Ware, Mr. Frederick</td>\n",
       "      <td>1</td>\n",
       "      <td>NaN</td>\n",
       "      <td>0</td>\n",
       "      <td>0</td>\n",
       "      <td>359309</td>\n",
       "      <td>805</td>\n",
       "      <td>NaN</td>\n",
       "      <td>3</td>\n",
       "      <td>70</td>\n",
       "    </tr>\n",
       "    <tr>\n",
       "      <th>1308</th>\n",
       "      <td>1309</td>\n",
       "      <td>NaN</td>\n",
       "      <td>3</td>\n",
       "      <td>Peter, Master. Michael J</td>\n",
       "      <td>1</td>\n",
       "      <td>NaN</td>\n",
       "      <td>1</td>\n",
       "      <td>1</td>\n",
       "      <td>2668</td>\n",
       "      <td>223583</td>\n",
       "      <td>NaN</td>\n",
       "      <td>1</td>\n",
       "      <td>70</td>\n",
       "    </tr>\n",
       "  </tbody>\n",
       "</table>\n",
       "<p>1013 rows × 13 columns</p>\n",
       "</div>"
      ],
      "text/plain": [
       "      PassengerId  Survived  Pclass                            Name  Sex  \\\n",
       "0               1       0.0       3         Braund, Mr. Owen Harris    1   \n",
       "2               3       1.0       3          Heikkinen, Miss. Laina    0   \n",
       "4               5       0.0       3        Allen, Mr. William Henry    1   \n",
       "5               6       0.0       3                Moran, Mr. James    1   \n",
       "7               8       0.0       3  Palsson, Master. Gosta Leonard    1   \n",
       "...           ...       ...     ...                             ...  ...   \n",
       "1303         1304       NaN       3  Henriksson, Miss. Jenny Lovisa    0   \n",
       "1304         1305       NaN       3              Spector, Mr. Woolf    1   \n",
       "1306         1307       NaN       3    Saether, Mr. Simon Sivertsen    1   \n",
       "1307         1308       NaN       3             Ware, Mr. Frederick    1   \n",
       "1308         1309       NaN       3        Peter, Master. Michael J    1   \n",
       "\n",
       "       Age  SibSp  Parch              Ticket    Fare Cabin  Embarked   x  \n",
       "0     22.0      1      0           A/5 21171     725   NaN         3  71  \n",
       "2     26.0      0      0    STON/O2. 3101282    7925   NaN         3  69  \n",
       "4     35.0      0      0              373450     805   NaN         3  70  \n",
       "5      NaN      0      0              330877   84583   NaN         2  70  \n",
       "7      2.0      3      1              349909   21075   NaN         3  67  \n",
       "...    ...    ...    ...                 ...     ...   ...       ...  ..  \n",
       "1303  28.0      0      0              347086    7775   NaN         3  69  \n",
       "1304   NaN      0      0           A.5. 3236     805   NaN         3  70  \n",
       "1306  38.5      0      0  SOTON/O.Q. 3101262     725   NaN         3  71  \n",
       "1307   NaN      0      0              359309     805   NaN         3  70  \n",
       "1308   NaN      1      1                2668  223583   NaN         1  70  \n",
       "\n",
       "[1013 rows x 13 columns]"
      ]
     },
     "execution_count": 90,
     "metadata": {},
     "output_type": "execute_result"
    }
   ],
   "source": [
    "df_1"
   ]
  },
  {
   "cell_type": "markdown",
   "metadata": {},
   "source": [
    "# - AGE Predict"
   ]
  },
  {
   "cell_type": "markdown",
   "metadata": {},
   "source": [
    "### Data cleaning AGE"
   ]
  },
  {
   "cell_type": "code",
   "execution_count": null,
   "metadata": {},
   "outputs": [],
   "source": [
    "Miss = [int(y) for y in train[(train.Name.str.contains('Miss'))].Age.describe()[2:8]]\n",
    "Mrs = [int(y) for y in train[(train.Name.str.contains('Mrs'))].Age.describe()[2:8]]\n",
    "Mr = [int(y) for y in train[(train.Name.str.contains('Mr'))].Age.describe()[2:8]]\n",
    "Master = [int(y) for y in train[(train.Name.str.contains('Master'))].Age.describe()[2:8]]\n",
    "Outer = [int(y) for y in train[~(train.Name.str.contains('Miss|Mrs|Master|Mr'))].Age.describe()[2:8]]\n",
    "\n",
    "    \n",
    "def filterAge(title):\n",
    "    li = [0, 0, 0, 0, 0, 0]\n",
    "    if('Master' in title):\n",
    "        li = Master\n",
    "    elif ('Mr' in title):\n",
    "        li = Mr\n",
    "    elif('Mrs'  in title):\n",
    "        li = Mrs\n",
    "    elif('Miss' in title):\n",
    "        li = Miss\n",
    "    else :\n",
    "        li = Outer\n",
    "    return li"
   ]
  },
  {
   "cell_type": "code",
   "execution_count": null,
   "metadata": {},
   "outputs": [],
   "source": [
    "age = [str(x)[1:-1].split(',') for x in df.Name.apply(filterAge)]\n",
    "age = pd.DataFrame(age)\n",
    "\n",
    "age.columns = ['a', 'b', 'c', 'd', 'e', 'f']\n",
    "\n",
    "df = df.reset_index()\n",
    "df = df.join(age)\n",
    "\n",
    "df = df.iloc[:, 1:]\n",
    "\n",
    "df.a = [np.intc(value) for value in df.a]\n",
    "df.b = [np.intc(value) for value in df.b]\n",
    "df.c = [np.intc(value) for value in df.c]\n",
    "df.d = [np.intc(value) for value in df.d]\n",
    "df.e = [np.intc(value) for value in df.e]\n",
    "df.f = [np.intc(value) for value in df.f]"
   ]
  },
  {
   "cell_type": "code",
   "execution_count": null,
   "metadata": {},
   "outputs": [],
   "source": [
    "corr2 = df.corr()"
   ]
  },
  {
   "cell_type": "markdown",
   "metadata": {},
   "source": [
    "### Predict ML\n",
    "##### Sep DataFrame"
   ]
  },
  {
   "cell_type": "code",
   "execution_count": null,
   "metadata": {},
   "outputs": [],
   "source": [
    "# Organizando modelos de treino e teste\n",
    "\n",
    "dfAgeTrain = df[df.Age.notna()]    # DataFrame que possui idades\n",
    "dfAgeTest = df[df.Age.isna()]      # DataFrame que não possui idades\n",
    "\n",
    "# DataFrame de Treinamento\n",
    "\n",
    "y_ageTrain = dfAgeTrain['Age']\n",
    "\n",
    "# target\n",
    "y_ageTrain = pd.Series([np.intc(value) for value in y_ageTrain])\n",
    "# Data\n",
    "x_ageTrain = dfAgeTrain.drop(columns=['PassengerId', 'Name', 'Age', 'Cabin', 'Survived', 'Ticket'])\n",
    "\n",
    "# x_ageTrain = x_ageTrain.reset_index()\n",
    "# y_ageTrain = y_ageTrain.reset_index()\n",
    "# x_ageTrain = x_ageTrain.drop(columns='index')\n",
    "# y_ageTrain = y_ageTrain.drop(columns='index')\n",
    "\n",
    "# DataFrame a ser previsto\n",
    "x_ageTest = dfAgeTest.drop(columns=['PassengerId', 'Name', 'Age', 'Cabin', 'Survived', 'Ticket'])"
   ]
  },
  {
   "cell_type": "code",
   "execution_count": null,
   "metadata": {},
   "outputs": [],
   "source": [
    "x_train_ageTrain, x_test_ageTrain, y_train_ageTrain, Y_test_ageTrain = train_test_split(x_ageTrain, y_ageTrain, test_size=0.3, random_state=337)"
   ]
  },
  {
   "cell_type": "markdown",
   "metadata": {},
   "source": [
    "### Machine leaning Age"
   ]
  },
  {
   "cell_type": "code",
   "execution_count": null,
   "metadata": {},
   "outputs": [],
   "source": [
    "from sklearn.ensemble import GradientBoostingRegressor\n",
    "clf = GradientBoostingRegressor()"
   ]
  },
  {
   "cell_type": "code",
   "execution_count": null,
   "metadata": {},
   "outputs": [],
   "source": [
    "clf.fit(x_train_ageTrain, y_train_ageTrain)"
   ]
  },
  {
   "cell_type": "code",
   "execution_count": null,
   "metadata": {},
   "outputs": [],
   "source": [
    "y_pred = clf.predict(x_test_ageTrain)"
   ]
  },
  {
   "cell_type": "code",
   "execution_count": null,
   "metadata": {},
   "outputs": [],
   "source": [
    "y_pred = [np.intc(value) for value in np.array(y_pred)]\n",
    "dic = {\"Real_age\": np.array(Y_test_ageTrain), \n",
    "       \"Pred_age\": y_pred\n",
    "      }\n",
    "\n",
    "pred = pd.DataFrame(dic)\n",
    "\n",
    "pred['Erro'] = pred['Real_age'] - pred['Pred_age']"
   ]
  },
  {
   "cell_type": "code",
   "execution_count": null,
   "metadata": {
    "scrolled": false
   },
   "outputs": [],
   "source": [
    "pred['Erro'].describe()"
   ]
  },
  {
   "cell_type": "code",
   "execution_count": null,
   "metadata": {},
   "outputs": [],
   "source": [
    "fig, axes = plt.subplots(nrows=2, ncols=2, figsize=(10, 7))\n",
    "\n",
    "sns.boxplot(ax=axes[0][0], x='Real_age', data=pred)\n",
    "sns.boxplot(ax=axes[1][0], x='Pred_age', data=pred)\n",
    "sns.distplot(pred['Real_age'], ax=axes[0][1], bins=25)\n",
    "sns.distplot(pred['Pred_age'], ax=axes[1][1], bins=25)"
   ]
  },
  {
   "cell_type": "markdown",
   "metadata": {},
   "source": [
    "# Predizendo modelo real"
   ]
  },
  {
   "cell_type": "code",
   "execution_count": null,
   "metadata": {},
   "outputs": [],
   "source": [
    "model = clf.predict(x_ageTest)"
   ]
  },
  {
   "cell_type": "code",
   "execution_count": null,
   "metadata": {},
   "outputs": [],
   "source": [
    "model = [np.intc(x) for x in model]"
   ]
  },
  {
   "cell_type": "code",
   "execution_count": null,
   "metadata": {},
   "outputs": [],
   "source": [
    "dfAgeTest.Age = model"
   ]
  },
  {
   "cell_type": "code",
   "execution_count": null,
   "metadata": {},
   "outputs": [],
   "source": [
    "df = pd.concat([dfAgeTest, dfAgeTrain])"
   ]
  },
  {
   "cell_type": "markdown",
   "metadata": {},
   "source": [
    "# Analise"
   ]
  },
  {
   "cell_type": "code",
   "execution_count": null,
   "metadata": {},
   "outputs": [],
   "source": [
    "#sns.boxplot(train[(train.Name.str.contains('Mrs'))].Age)\n",
    "#train[train.Name.str.contains('Master')].describe()\n",
    "#df[df.SibSp.between(7, 11)]\n",
    "#train[(train.Name.str.contains('Miss'))].describe()\n",
    "#sns.boxplot(train[(train.Name.str.contains('Miss'))].Age)\n",
    "#train[~(train.Name.str.contains('Miss|Mrs|Master|Mr'))].describe()"
   ]
  },
  {
   "cell_type": "code",
   "execution_count": null,
   "metadata": {},
   "outputs": [],
   "source": [
    "corr1"
   ]
  },
  {
   "cell_type": "code",
   "execution_count": null,
   "metadata": {},
   "outputs": [],
   "source": [
    "corr2"
   ]
  },
  {
   "cell_type": "code",
   "execution_count": null,
   "metadata": {},
   "outputs": [],
   "source": [
    "df.corr()"
   ]
  }
 ],
 "metadata": {
  "kernelspec": {
   "display_name": "Python 3",
   "language": "python",
   "name": "python3"
  },
  "language_info": {
   "codemirror_mode": {
    "name": "ipython",
    "version": 3
   },
   "file_extension": ".py",
   "mimetype": "text/x-python",
   "name": "python",
   "nbconvert_exporter": "python",
   "pygments_lexer": "ipython3",
   "version": "3.7.6"
  }
 },
 "nbformat": 4,
 "nbformat_minor": 4
}
