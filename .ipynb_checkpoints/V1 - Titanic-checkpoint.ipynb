{
 "cells": [
  {
   "cell_type": "code",
   "execution_count": 1,
   "metadata": {},
   "outputs": [
    {
     "name": "stderr",
     "output_type": "stream",
     "text": [
      "/home/ds_magico/anaconda3/lib/python3.7/site-packages/sklearn/utils/deprecation.py:143: FutureWarning: The sklearn.ensemble.gradient_boosting module is  deprecated in version 0.22 and will be removed in version 0.24. The corresponding classes / functions should instead be imported from sklearn.ensemble. Anything that cannot be imported from sklearn.ensemble is now part of the private API.\n",
      "  warnings.warn(message, FutureWarning)\n",
      "/home/ds_magico/anaconda3/lib/python3.7/site-packages/sklearn/utils/deprecation.py:143: FutureWarning: The sklearn.ensemble.weight_boosting module is  deprecated in version 0.22 and will be removed in version 0.24. The corresponding classes / functions should instead be imported from sklearn.ensemble. Anything that cannot be imported from sklearn.ensemble is now part of the private API.\n",
      "  warnings.warn(message, FutureWarning)\n"
     ]
    }
   ],
   "source": [
    "import pandas as pd\n",
    "import numpy as np\n",
    "import matplotlib.pyplot as plt\n",
    "import seaborn as sns\n",
    "from sklearn.model_selection import train_test_split\n",
    "from sklearn.metrics import accuracy_score\n",
    "\n",
    "from sklearn.ensemble.gradient_boosting import GradientBoostingClassifier, GradientBoostingRegressor\n",
    "from sklearn.ensemble import RandomForestClassifier\n",
    "from sklearn.gaussian_process import GaussianProcessClassifier\n",
    "from sklearn.ensemble.gradient_boosting import GradientBoostingClassifier\n",
    "from sklearn.ensemble.weight_boosting import AdaBoostClassifier\n",
    "# from sklearn.linear_model.ridge import RidgeClassifierCVclear\n",
    "# from sklearn.linear_model.ridge import RidgeClassifier\n",
    "# from sklearn.ensemble.bagging import BaggingClassifier\n",
    "# from sklearn.ensemble.forest import ExtraTreesClassifier\n",
    "# from sklearn.ensemble.forest import RandomForestClassifier\n",
    "from sklearn.naive_bayes import BernoulliNB\n",
    "from sklearn.discriminant_analysis import LinearDiscriminantAnalysis\n",
    "from xgboost.sklearn import XGBClassifier \n",
    "\n",
    "\n",
    "# survival\tSurvival\t0 = No, 1 = Yes\n",
    "# pclass\tTicket class\t1 = 1st, 2 = 2nd, 3 = 3rd\n",
    "# sex\tSex\t\n",
    "# Age\tAge in years\t\n",
    "# sibsp\t# of siblings / spouses aboard the Titanic\t\n",
    "# parch\t# of parents / children aboard the Titanic\t\n",
    "# ticket\tTicket number\t\n",
    "# fare\tPassenger fare\t\n",
    "# cabin\tCabin number\t\n",
    "# embarked\tPort of Embarkation\tC = Cherbourg, Q = Queenstown, S = Southampton"
   ]
  },
  {
   "cell_type": "code",
   "execution_count": 2,
   "metadata": {},
   "outputs": [],
   "source": [
    "train = pd.read_csv('./train.csv')\n",
    "test =  pd.read_csv('./test.csv')"
   ]
  },
  {
   "cell_type": "code",
   "execution_count": 3,
   "metadata": {},
   "outputs": [],
   "source": [
    "data = [train, test]\n",
    "df_1 = pd.concat(data)\n",
    "df_1 = df_1.reset_index()\n",
    "df_1 = df_1.drop(columns='index')"
   ]
  },
  {
   "cell_type": "code",
   "execution_count": 4,
   "metadata": {},
   "outputs": [],
   "source": [
    "corr1 = df_1.corr()"
   ]
  },
  {
   "cell_type": "markdown",
   "metadata": {},
   "source": [
    "# - Clean Data"
   ]
  },
  {
   "cell_type": "code",
   "execution_count": 5,
   "metadata": {},
   "outputs": [],
   "source": [
    "def clean(df):\n",
    "    \n",
    "    df = pd.DataFrame(df)\n",
    "    df.Embarked = [ 0 if i == 'S' else 1 if i == 'C' else 2 for i in df.Embarked]\n",
    "    df[df.Embarked.isna()] = int(df.Embarked.mean())\n",
    "    df[df.Fare.isna()] = df.Fare.mean()\n",
    "    df.Fare = [np.intc(float(str(round(value, 5)).replace('.', ''))) for value in df.Fare]\n",
    "    df.Sex = [1 if i == \"male\" else 0 for i in df.Sex]\n",
    "    \n",
    "    return df\n",
    "    \n",
    "df_2 = clean(df_1)\n",
    "test_1 = clean(test)"
   ]
  },
  {
   "cell_type": "markdown",
   "metadata": {},
   "source": [
    "# - Cabin Columns"
   ]
  },
  {
   "cell_type": "code",
   "execution_count": 6,
   "metadata": {},
   "outputs": [
    {
     "name": "stderr",
     "output_type": "stream",
     "text": [
      "/home/ds_magico/anaconda3/lib/python3.7/site-packages/pandas/core/generic.py:5168: SettingWithCopyWarning: \n",
      "A value is trying to be set on a copy of a slice from a DataFrame.\n",
      "Try using .loc[row_indexer,col_indexer] = value instead\n",
      "\n",
      "See the caveats in the documentation: https://pandas.pydata.org/pandas-docs/stable/user_guide/indexing.html#returning-a-view-versus-a-copy\n",
      "  self[name] = value\n",
      "/home/ds_magico/anaconda3/lib/python3.7/site-packages/pandas/core/generic.py:5168: SettingWithCopyWarning: \n",
      "A value is trying to be set on a copy of a slice from a DataFrame.\n",
      "Try using .loc[row_indexer,col_indexer] = value instead\n",
      "\n",
      "See the caveats in the documentation: https://pandas.pydata.org/pandas-docs/stable/user_guide/indexing.html#returning-a-view-versus-a-copy\n",
      "  self[name] = value\n"
     ]
    }
   ],
   "source": [
    "def clean_cabin(df, drop, na):\n",
    "    df = pd.DataFrame(df)\n",
    "    \n",
    "    if (na == 1):\n",
    "        df_cabin = df[~df.Cabin.isna()]\n",
    "        df_cabin.Cabin = [ord(i[0]) - 65 if type(i) != float else int(i) - 28 for i in df_cabin.Cabin]\n",
    "        df_cabin.Cabin = [ 0 if i in [0, 1, 2] else 1 for i in df_cabin.Cabin]\n",
    "    else:\n",
    "        df_cabin = df[df.Cabin.isna()]\n",
    "\n",
    "    y = df_cabin.Cabin\n",
    "    x = df_cabin.drop(columns=drop)\n",
    "    \n",
    "    return [x, y]\n",
    "    \n",
    "def predict_cabin(df, test=0):\n",
    "    df = pd.DataFrame(df)\n",
    "    \n",
    "    # Trein DataSet -> pd.read_csv('./train.csv')\n",
    "    # Cleaning DataSet\n",
    "    drop_train = ['PassengerId', 'Survived', 'Ticket', 'Age', 'Name', 'Cabin']\n",
    "    x_train, y_train = clean_cabin(df, drop_train, 1)  \n",
    "    \n",
    "    # Predict train DataSet\n",
    "    x_train_aux, x_test_aux, y_train_aux, y_test_aux = train_test_split(x_train, y_train, test_size=0.30, random_state=337)\n",
    "    clf = GradientBoostingClassifier()\n",
    "    clf.fit(x_train_aux, y_train_aux)\n",
    "    y_pred = clf.predict(x_test_aux)\n",
    "\n",
    "    # Predict test DataSet\n",
    "    x_df_train, y_df_train = clean_cabin(df, drop_train, 0)  \n",
    "    df_train = clf.predict(x_df_train) \n",
    "    \n",
    "    # Predict final DataSet -> pd.read_csv('./test.csv')\n",
    "    drop_test = ['PassengerId', 'Ticket', 'Age', 'Name', 'Cabin']\n",
    "    x_df_test, y_df_test = clean_cabin(test, drop_test, 0)\n",
    "    df_test = clf.predict(x_df_test)\n",
    "    \n",
    "    # join DataSet\n",
    "    df.loc[~df['Cabin'].isna(), 'Cabin'] = y_train\n",
    "    df.loc[df['Cabin'].isna(), 'Cabin'] = df_train\n",
    "    \n",
    "    useless, y_notna = clean_cabin(test, drop_test, 1)\n",
    "    test.loc[~test['Cabin'].isna(), 'Cabin'] = y_notna\n",
    "    test.loc[test['Cabin'].isna(), 'Cabin'] = df_test\n",
    "\n",
    "    return [df, test]\n",
    "    \n",
    "df_3, test_2 = predict_cabin(df_2, test_1)"
   ]
  },
  {
   "cell_type": "markdown",
   "metadata": {},
   "source": [
    "# - AGE Column"
   ]
  },
  {
   "cell_type": "markdown",
   "metadata": {},
   "source": [
    "### Data cleaning AGE"
   ]
  },
  {
   "cell_type": "code",
   "execution_count": null,
   "metadata": {},
   "outputs": [],
   "source": [
    "# (df_1.Name.str.contains('Mrs'))"
   ]
  },
  {
   "cell_type": "code",
   "execution_count": null,
   "metadata": {},
   "outputs": [],
   "source": [
    "Miss = [int(y) for y in df_1[(df_1.Name.str.contains('Miss'))].Age.describe()[2:8]]\n",
    "Mrs = [int(y) for y in df_1[(df_1.Name.str.contains('Mrs'))].Age.describe()[2:8]]\n",
    "Mr = [int(y) for y in df_1[(df_1.Name.str.contains('Mr'))].Age.describe()[2:8]]\n",
    "Master = [int(y) for y in df_1[(df_1.Name.str.contains('Master'))].Age.describe()[2:8]]\n",
    "Outer = [int(y) for y in df_1[~(df_1.Name.str.contains('Miss|Mrs|Master|Mr'))].Age.describe()[2:8]]\n",
    "\n",
    "def filterAge(title):\n",
    "    describe = []\n",
    "    if('Master' in title):\n",
    "        describe = Master\n",
    "        li_title = [1]\n",
    "    elif('Mrs'  in title):\n",
    "        describe = Mrs\n",
    "        li_title = [5]\n",
    "    elif ('Mr' in title):\n",
    "        describe = Mr\n",
    "        li_title = [2]\n",
    "    elif('Miss' in title):\n",
    "        describe = Miss\n",
    "        li_title = [3]\n",
    "    else :\n",
    "        describe = Outer\n",
    "        li_title = [4]\n",
    "    return [describe, li_title]"
   ]
  },
  {
   "cell_type": "code",
   "execution_count": null,
   "metadata": {},
   "outputs": [],
   "source": [
    "age = pd.DataFrame([str(x)[1:-1][1:-1].split(',') for x in df_2.Name.apply(filterAge)])\n",
    "age.columns = ['Std', 'Min', 'Per_25', 'Per_50', 'Pre_75', 'Max', 'Title']\n",
    "age.Max = [i[:-1] for i in age.Max]\n",
    "age.Title = [i[-1:] for i in age.Title]"
   ]
  },
  {
   "cell_type": "code",
   "execution_count": null,
   "metadata": {},
   "outputs": [],
   "source": [
    "def int_age(a):\n",
    "    return([np.intc(i) for i in a])\n",
    "    \n",
    "age = age.apply(int_age)"
   ]
  },
  {
   "cell_type": "code",
   "execution_count": null,
   "metadata": {},
   "outputs": [],
   "source": [
    "df_3 = df_2.join(age)\n",
    "df_3.Age = [ np.intc(i) if type(i) == int else i for i in df_3.Age]"
   ]
  },
  {
   "cell_type": "code",
   "execution_count": null,
   "metadata": {},
   "outputs": [],
   "source": [
    "df_3"
   ]
  },
  {
   "cell_type": "markdown",
   "metadata": {},
   "source": [
    "### Predict Age Train/Test"
   ]
  },
  {
   "cell_type": "code",
   "execution_count": null,
   "metadata": {},
   "outputs": [],
   "source": [
    "# Organizando modelos de treino e teste\n",
    "dfAgeTrain = df_3[df_3.Age.notna()]    # DataFrame que possui idades\n",
    "dfAgeTest = df_3[df_3.Age.isna()]      # DataFrame que não possui idades\n",
    "\n",
    "# DataFrame de Treinamento\n",
    "y_ageTrain = dfAgeTrain['Age']\n",
    "\n",
    "# target\n",
    "y_ageTrain = pd.Series([np.intc(value) for value in y_ageTrain])\n",
    "# Data\n",
    "x_ageTrain = dfAgeTrain.drop(columns=['PassengerId', 'Name', 'Age', 'Survived', 'Ticket'])\n",
    "\n",
    "# DataFrame a ser previsto\n",
    "x_ageTest = dfAgeTest.drop(columns=['PassengerId', 'Name', 'Age', 'Survived', 'Ticket'])\n",
    "\n",
    "x_train_ageTrain, x_test_ageTrain, y_train_ageTrain, y_test_ageTrain = train_test_split(x_ageTrain, y_ageTrain, test_size=0.3, random_state=337)"
   ]
  },
  {
   "cell_type": "code",
   "execution_count": null,
   "metadata": {},
   "outputs": [],
   "source": [
    "x_train_ageTrain"
   ]
  },
  {
   "cell_type": "code",
   "execution_count": null,
   "metadata": {},
   "outputs": [],
   "source": [
    "clf_age = GradientBoostingRegressor()\n",
    "clf_age.fit(x_train_ageTrain, y_train_ageTrain)"
   ]
  },
  {
   "cell_type": "code",
   "execution_count": null,
   "metadata": {},
   "outputs": [],
   "source": [
    "y_pred = clf_age.predict(x_test_ageTrain)"
   ]
  },
  {
   "cell_type": "code",
   "execution_count": null,
   "metadata": {},
   "outputs": [],
   "source": [
    "y_pred = [np.intc(value) for value in np.array(y_pred)]\n",
    "dic = {\"Real_age\": np.array(y_test_ageTrain), \n",
    "       \"Pred_age\": y_pred\n",
    "      }\n",
    "\n",
    "pred = pd.DataFrame(dic)\n",
    "\n",
    "pred['Erro'] = pred['Real_age'] - pred['Pred_age']"
   ]
  },
  {
   "cell_type": "code",
   "execution_count": null,
   "metadata": {
    "scrolled": false
   },
   "outputs": [],
   "source": [
    "# Accuracy\n",
    "pred['Erro'].describe()"
   ]
  },
  {
   "cell_type": "code",
   "execution_count": null,
   "metadata": {},
   "outputs": [],
   "source": [
    "fig, axes = plt.subplots(nrows=2, ncols=2, figsize=(10, 7))\n",
    "\n",
    "sns.boxplot(ax=axes[0][0], x='Real_age', data=pred)\n",
    "sns.boxplot(ax=axes[1][0], x='Pred_age', data=pred)\n",
    "sns.distplot(pred['Real_age'], ax=axes[0][1], bins=25)\n",
    "sns.distplot(pred['Pred_age'], ax=axes[1][1], bins=25)"
   ]
  },
  {
   "cell_type": "markdown",
   "metadata": {},
   "source": [
    "### Predict Age Real"
   ]
  },
  {
   "cell_type": "code",
   "execution_count": null,
   "metadata": {},
   "outputs": [],
   "source": [
    "model = clf_age.predict(x_ageTest)\n",
    "model = [np.intc(x) for x in model]\n",
    "dfAgeTest.Age = model"
   ]
  },
  {
   "cell_type": "markdown",
   "metadata": {},
   "source": [
    "# Survived"
   ]
  },
  {
   "cell_type": "code",
   "execution_count": null,
   "metadata": {},
   "outputs": [],
   "source": [
    "df_4 = pd.concat([dfAgeTest, dfAgeTrain]).sort_values(by='PassengerId')\n",
    "df_5 = df_4 \n",
    "\n",
    "df_4.Age = df_4.Age.astype(int) #[np.intc(i) for i in df_4.Age]\n",
    "\n",
    "### col family_sex\n",
    "\n",
    "\n",
    "### col family_size\n",
    "# df_4['Family_size'] = [ i for i in df_4.SibSp + df_4.Parch]\n",
    "\n",
    "\n",
    "### col sex\n",
    "# sex = [[1, 0] if 1 == i else [0, 1] for i in df_4.Sex]\n",
    "# sex = pd.DataFrame(sex)\n",
    "# sex.columns = ['Male', 'Female']\n",
    "# df_4 = df_4.join(sex)\n",
    "\n",
    "\n",
    "### col names_num\n",
    "# df_4['Names_num'] = [len(i.split()) for i in df_4.Name]\n",
    "\n",
    "\n",
    "### col Age\n",
    "# df_4.loc[ df_4['Age'] <= 23, 'Age'] = 0\n",
    "# df_4.loc[(df_4['Age'] > 23) & (df_4['Age'] <= 34), 'Age'] = 1\n",
    "# # df_4.loc[(df_4['Age'] > 28) & (df_4['Age'] <= 37), 'Age'] = 2\n",
    "# # df_4.loc[(df_4['Age'] > 31) & (df_4['Age'] <= 41), 'Age'] = 3\n",
    "# df_4.loc[ df_4['Age'] > 34, 'Age'] = 2;\n",
    "\n",
    "### col Alone, max 2 \n",
    "# 0 if i < 1 else 1 if i == 1 else 2\n",
    "df_4['Alone'] = [0 if i == 0 else 1 for i in df_4.SibSp + df_4.Parch]\n",
    "\n",
    "\n",
    "### col X\n",
    "df_4.x = (df_4.x - 65)\n",
    "df_4.x = [0 if i in [5, 4] else 1 for i in df_4.x]"
   ]
  },
  {
   "cell_type": "code",
   "execution_count": null,
   "metadata": {},
   "outputs": [],
   "source": [
    "(df_4.groupby('Age').sum() / df_4.groupby('Age').count() * 100).Survived"
   ]
  },
  {
   "cell_type": "code",
   "execution_count": null,
   "metadata": {},
   "outputs": [],
   "source": [
    "df_4.Age.describe()"
   ]
  },
  {
   "cell_type": "code",
   "execution_count": null,
   "metadata": {},
   "outputs": [],
   "source": [
    "df_4 = df_4.iloc[:, :12].join(df_4.iloc[:, -2:])\n",
    "\n",
    "df_4 = df_4[~df_4.Survived.isna()].drop(columns=['Ticket', 'PassengerId', 'Name', 'Title', 'SibSp', 'Parch'])\n",
    "df_4.Survived = df_4.Survived.astype(int)\n",
    "# df_4.Survived = [ np.intc(i) for i in df_4.Survived]\n",
    "\n",
    "y = df_4.Survived\n",
    "x = df_4.drop(columns='Survived')\n",
    "\n",
    "colormap = plt.cm.RdBu\n",
    "plt.figure(figsize=(17,17))\n",
    "plt.title('Pearson Correlation of Features', y=1.05, size=15)\n",
    "sns.heatmap(df_4.astype(float).corr(),linewidths=0.1,vmax=1.0, \n",
    "            square=True, cmap=colormap, linecolor='white', annot=True)"
   ]
  },
  {
   "cell_type": "code",
   "execution_count": null,
   "metadata": {},
   "outputs": [],
   "source": [
    "x_train, x_test, y_train, y_test = train_test_split(x, y, test_size=0.3, random_state=337)\n",
    "\n",
    "# RandomForestClassifier\n",
    "# GaussianProcessClassifier\n",
    "# GradientBoostingClassifier\n",
    "# AdaBoostClassifier\n",
    "# RidgeClassifierCV\n",
    "# RidgeClassifier\n",
    "# BaggingClassifier\n",
    "# ExtraTreesClassifier\n",
    "# RandomForestClassifier\n",
    "# BernoulliNB\n",
    "# LinearDiscriminantAnalysis\n",
    "# XGBClassifier \n",
    "\n",
    "clf = XGBClassifier(\n",
    "        learning_rate = 0.15,\n",
    "         n_estimators= 2000,\n",
    "         max_depth= 1,\n",
    "         min_child_weight= 1,\n",
    "         #gamma=1,\n",
    "         gamma=0.9,                        \n",
    "         subsample=0.79,\n",
    "         colsample_bytree=0.8,\n",
    "         objective= 'binary:logistic',\n",
    "         nthread= -1,\n",
    "         scale_pos_weight=1\n",
    "      )\n",
    "clf.fit(x_train, y_train)"
   ]
  },
  {
   "cell_type": "code",
   "execution_count": null,
   "metadata": {},
   "outputs": [],
   "source": [
    "y_pred = clf.predict(x_test)\n",
    "accuracy_score(y_test, y_pred) * 100"
   ]
  },
  {
   "cell_type": "code",
   "execution_count": null,
   "metadata": {},
   "outputs": [],
   "source": [
    "test"
   ]
  },
  {
   "cell_type": "code",
   "execution_count": null,
   "metadata": {},
   "outputs": [],
   "source": []
  },
  {
   "cell_type": "code",
   "execution_count": null,
   "metadata": {},
   "outputs": [],
   "source": [
    "# test[test.Fare.isna()] = test.Fare.mean()\n",
    "df_test = test[test.Fare.isna()]\n",
    "# df_test = df_test.drop(columns=['Cabin', 'Ticket', 'Name', 'PassengerId', 'Age'])\n",
    "# model_cabin = clf_cabin_x.predict(df_test)\n",
    "# df_cabin_2 = df_1[df_1.Cabin.isna()]\n",
    "# df_cabin_2['x'] = model_cabin"
   ]
  },
  {
   "cell_type": "code",
   "execution_count": null,
   "metadata": {},
   "outputs": [],
   "source": [
    "df_5 = df_5.iloc[:, :12].join(df_4.iloc[:, -2:])\n",
    "df_5 = df_5[df_5.Survived.isna()].drop(columns=['Ticket', 'PassengerId', 'Name', 'Title', 'SibSp', 'Parch', 'Survived'])\n",
    "# df_4.Survived = [ np.intc(i) for i in df_4.Survived]"
   ]
  },
  {
   "cell_type": "code",
   "execution_count": null,
   "metadata": {},
   "outputs": [],
   "source": [
    "# submission = pd.DataFrame({\n",
    "#         \"PassengerId\": test[\"PassengerId\"],\n",
    "#         \"Survived\": pred_real\n",
    "#     })\n",
    "# submission.to_csv('./submission.csv', index=False)"
   ]
  }
 ],
 "metadata": {
  "kernelspec": {
   "display_name": "Python 3",
   "language": "python",
   "name": "python3"
  },
  "language_info": {
   "codemirror_mode": {
    "name": "ipython",
    "version": 3
   },
   "file_extension": ".py",
   "mimetype": "text/x-python",
   "name": "python",
   "nbconvert_exporter": "python",
   "pygments_lexer": "ipython3",
   "version": "3.7.6"
  }
 },
 "nbformat": 4,
 "nbformat_minor": 4
}
